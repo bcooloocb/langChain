{
 "cells": [
  {
   "cell_type": "code",
   "execution_count": null,
   "id": "ce84c90e-7101-481f-9ddb-26bd0dac32b5",
   "metadata": {},
   "outputs": [],
   "source": [
    "Agents:\n",
    "\n",
    "                Inputs\n",
    "                  ||\n",
    "AgentExecutor    Agent  => AgentFinish\n",
    "                  ||\n",
    "                AgentAction\n",
    "                  ||\n",
    "                Observation\n",
    "\n",
    "\n",
    "Why Vector databases:\n",
    "-traditional DB not built for LLM apps\n",
    "- Word embeddings\n",
    "- optimized storage and specialized query\n",
    "\n",
    "Flow:\n",
    "    convert data to vectors => create index => compare and find nearest neighbour\n",
    "\n",
    "Ex: Pinecone, Milvus, Chroma, Weeviate\n",
    "\n",
    "\n",
    "\n",
    "                         "
   ]
  }
 ],
 "metadata": {
  "kernelspec": {
   "display_name": "Python 3 (ipykernel)",
   "language": "python",
   "name": "python3"
  },
  "language_info": {
   "codemirror_mode": {
    "name": "ipython",
    "version": 3
   },
   "file_extension": ".py",
   "mimetype": "text/x-python",
   "name": "python",
   "nbconvert_exporter": "python",
   "pygments_lexer": "ipython3",
   "version": "3.12.4"
  }
 },
 "nbformat": 4,
 "nbformat_minor": 5
}
