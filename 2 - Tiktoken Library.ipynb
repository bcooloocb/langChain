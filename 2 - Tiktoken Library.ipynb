{
 "cells": [
  {
   "cell_type": "markdown",
   "id": "3cccfef9",
   "metadata": {},
   "source": [
    "# Tiktoken Library"
   ]
  },
  {
   "cell_type": "code",
   "execution_count": 1,
   "id": "09ffc195",
   "metadata": {},
   "outputs": [
    {
     "name": "stdout",
     "output_type": "stream",
     "text": [
      "Requirement already satisfied: tiktoken in c:\\users\\bharanidharan.a\\appdata\\local\\anaconda3\\lib\\site-packages (0.7.0)\n",
      "Requirement already satisfied: regex>=2022.1.18 in c:\\users\\bharanidharan.a\\appdata\\local\\anaconda3\\lib\\site-packages (from tiktoken) (2023.10.3)\n",
      "Requirement already satisfied: requests>=2.26.0 in c:\\users\\bharanidharan.a\\appdata\\local\\anaconda3\\lib\\site-packages (from tiktoken) (2.32.2)\n",
      "Requirement already satisfied: charset-normalizer<4,>=2 in c:\\users\\bharanidharan.a\\appdata\\local\\anaconda3\\lib\\site-packages (from requests>=2.26.0->tiktoken) (2.0.4)\n",
      "Requirement already satisfied: idna<4,>=2.5 in c:\\users\\bharanidharan.a\\appdata\\local\\anaconda3\\lib\\site-packages (from requests>=2.26.0->tiktoken) (3.7)\n",
      "Requirement already satisfied: urllib3<3,>=1.21.1 in c:\\users\\bharanidharan.a\\appdata\\local\\anaconda3\\lib\\site-packages (from requests>=2.26.0->tiktoken) (2.2.2)\n",
      "Requirement already satisfied: certifi>=2017.4.17 in c:\\users\\bharanidharan.a\\appdata\\local\\anaconda3\\lib\\site-packages (from requests>=2.26.0->tiktoken) (2024.6.2)\n",
      "Note: you may need to restart the kernel to use updated packages.\n"
     ]
    }
   ],
   "source": [
    "pip install tiktoken"
   ]
  },
  {
   "cell_type": "code",
   "execution_count": 2,
   "id": "deb389de",
   "metadata": {},
   "outputs": [],
   "source": [
    "import tiktoken"
   ]
  },
  {
   "cell_type": "code",
   "execution_count": 3,
   "id": "63ae5b43",
   "metadata": {},
   "outputs": [],
   "source": [
    "encoding = tiktoken.get_encoding(\"cl100k_base\")"
   ]
  },
  {
   "cell_type": "code",
   "execution_count": 4,
   "id": "052a8d9a",
   "metadata": {},
   "outputs": [],
   "source": [
    "token_text = 'A quantum computer is a computer that exploits quantum mechanical phenomena. At small scales, physical matter exhibits properties of both particles and waves, and quantum computing leverages this behavior using specialized hardware. Classical physics cannot explain the operation of these quantum devices, and a scalable quantum computer could perform some calculations exponentially faster than any modern \"classical\" computer. In particular, a large-scale quantum computer could break widely used encryption schemes and aid physicists in performing physical simulations; however, the current state of the art is largely experimental and impractical, with several obstacles to useful applications.'"
   ]
  },
  {
   "cell_type": "code",
   "execution_count": 5,
   "id": "430c935b",
   "metadata": {},
   "outputs": [],
   "source": [
    "tokens=encoding.encode(token_text)"
   ]
  },
  {
   "cell_type": "code",
   "execution_count": 6,
   "id": "97221d07",
   "metadata": {},
   "outputs": [
    {
     "name": "stdout",
     "output_type": "stream",
     "text": [
      "Tokens: 112\n"
     ]
    }
   ],
   "source": [
    "print(f\"Tokens: {len(tokens)}\")"
   ]
  },
  {
   "cell_type": "code",
   "execution_count": 7,
   "id": "6856db2b",
   "metadata": {},
   "outputs": [
    {
     "name": "stdout",
     "output_type": "stream",
     "text": [
      "[32, 31228, 6500, 374, 264, 6500, 430, 63488, 31228, 22936, 44247, 13, 2468, 2678, 29505, 11, 7106, 5030, 50829, 6012, 315, 2225, 19252, 323, 17301, 11, 323, 31228, 25213, 28605, 1154, 420, 7865, 1701, 28175, 12035, 13, 68533, 22027, 4250, 10552, 279, 5784, 315, 1521, 31228, 7766, 11, 323, 264, 69311, 31228, 6500, 1436, 2804, 1063, 29217, 75251, 10819, 1109, 904, 6617, 330, 1058, 950, 1, 6500, 13, 763, 4040, 11, 264, 3544, 13230, 31228, 6500, 1436, 1464, 13882, 1511, 26542, 31956, 323, 12576, 98417, 304, 16785, 7106, 47590, 26, 4869, 11, 279, 1510, 1614, 315, 279, 1989, 374, 14090, 22772, 323, 23356, 37119, 11, 449, 3892, 32116, 311, 5505, 8522, 13]\n"
     ]
    }
   ],
   "source": [
    "print(tokens)"
   ]
  },
  {
   "cell_type": "code",
   "execution_count": null,
   "id": "c6f49105-c456-4d83-a614-45cc85b03df6",
   "metadata": {},
   "outputs": [],
   "source": []
  }
 ],
 "metadata": {
  "kernelspec": {
   "display_name": "Python 3 (ipykernel)",
   "language": "python",
   "name": "python3"
  },
  "language_info": {
   "codemirror_mode": {
    "name": "ipython",
    "version": 3
   },
   "file_extension": ".py",
   "mimetype": "text/x-python",
   "name": "python",
   "nbconvert_exporter": "python",
   "pygments_lexer": "ipython3",
   "version": "3.12.4"
  }
 },
 "nbformat": 4,
 "nbformat_minor": 5
}
